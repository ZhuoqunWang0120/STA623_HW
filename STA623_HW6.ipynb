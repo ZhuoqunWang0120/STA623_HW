{
 "cells": [
  {
   "cell_type": "code",
   "execution_count": 43,
   "metadata": {},
   "outputs": [],
   "source": [
    "import numpy as np\n",
    "from matplotlib import pyplot as plt"
   ]
  },
  {
   "cell_type": "code",
   "execution_count": 132,
   "metadata": {},
   "outputs": [],
   "source": [
    "n=61\n",
    "m=12\n",
    "n_vec=np.array([58,2,1])\n",
    "ITER_MAX=20\n",
    "r_vec=np.array([10,1.1,1.1])\n",
    "r=np.sum(r_vec)\n",
    "prior_mean=r_vec/r"
   ]
  },
  {
   "cell_type": "code",
   "execution_count": 134,
   "metadata": {},
   "outputs": [
    {
     "data": {
      "image/png": "[encoded data removed]",
      "text/plain": [
       "<Figure size 432x288 with 1 Axes>"
      ]
     },
     "metadata": {
      "needs_background": "light"
     },
     "output_type": "display_data"
    }
   ],
   "source": [
    "r3_vec=np.array([0,0.3,0.5,1]) #initialization with pi3/(pi2+pi3)\n",
    "for i in range(len(r3_vec)):\n",
    "    r3=r3_vec[i]\n",
    "    pi_t=np.zeros((ITER_MAX,3))\n",
    "    pi_t[:,0]=(r_vec[0]+n_vec[0]-1)/(r+n+m-3)\n",
    "    #pi_t[0] do not need to be updated!\n",
    "    D=r+n+m-3\n",
    "    pi03=(1-(r_vec[0]+n_vec[0]-1)/D)*r3\n",
    "    pi02=(1-(r_vec[0]+n_vec[0]-1)/D)*(1-r3)\n",
    "    pi_t[0,1:3]=np.array([pi02,pi03])\n",
    "    #we only need to inspect pi_3\n",
    "    for t in range(ITER_MAX-1):\n",
    "        pit=pi_t[t,:]\n",
    "        m3t=m*pit[2]/(pit[1]+pit[2])\n",
    "        m2t=m-m3t\n",
    "        #print(m2t,m3t)\n",
    "        pi_t[t+1,1:3]=np.array([(r_vec[1]+n_vec[1]+m2t)/D,(r_vec[2]+n_vec[2]+m3t)/D])  \n",
    "    plt.plot(pi_t[:,2],label=\"$π^0_3/(π^0_2+π^0_3)$ = %.2f\" % r3)\n",
    "    plt.legend()"
   ]
  },
  {
   "cell_type": "markdown",
   "metadata": {},
   "source": [
    "#### approximation of posterior mode:"
   ]
  },
  {
   "cell_type": "code",
   "execution_count": 141,
   "metadata": {},
   "outputs": [
    {
     "name": "stdout",
     "output_type": "stream",
     "text": [
      "[0.81508516 0.12460917 0.08463657]\n",
      "0.679216196457037\n"
     ]
    }
   ],
   "source": [
    "print(pi_t[ITER_MAX-1,:])\n",
    "print(pi_t[ITER_MAX-1,2]/pi_t[ITER_MAX-1,1])"
   ]
  },
  {
   "cell_type": "markdown",
   "metadata": {},
   "source": [
    "#### prior mode:"
   ]
  },
  {
   "cell_type": "code",
   "execution_count": 143,
   "metadata": {},
   "outputs": [
    {
     "name": "stdout",
     "output_type": "stream",
     "text": [
      "[0.97826087 0.01086957 0.01086957]\n",
      "1.0\n"
     ]
    }
   ],
   "source": [
    "pm=(r_vec-1)/(r-3)\n",
    "print(pm)\n",
    "print(pm[2]/pm[1])"
   ]
  },
  {
   "cell_type": "markdown",
   "metadata": {},
   "source": [
    "#### posterior mode with only $y_c$"
   ]
  },
  {
   "cell_type": "code",
   "execution_count": 144,
   "metadata": {},
   "outputs": [
    {
     "name": "stdout",
     "output_type": "stream",
     "text": [
      "[0.92896175 0.04234973 0.02868852]\n",
      "0.6774193548387097\n"
     ]
    }
   ],
   "source": [
    "posy=(n_vec+r_vec)/(n+r)\n",
    "print(posy)\n",
    "print(posy[2]/posy[1])"
   ]
  },
  {
   "cell_type": "markdown",
   "metadata": {},
   "source": [
    "Note that $\\pi_3/\\pi_2$ of posterior mode with only $y_c$ and of the EM result are similar. This means the partial outcomes $x_p$ mainly contributes to estimating ratio between $\\pi_1$ and $\\pi_2+\\pi_3$ instead of distinguishing between $\\pi_2$ and $\\pi_3$."
   ]
  },
  {
   "cell_type": "code",
   "execution_count": null,
   "metadata": {},
   "outputs": [],
   "source": []
  }
 ],
 "metadata": {
  "kernelspec": {
   "display_name": "Python 3",
   "language": "python",
   "name": "python3"
  },
  "language_info": {
   "codemirror_mode": {
    "name": "ipython",
    "version": 3
   },
   "file_extension": ".py",
   "mimetype": "text/x-python",
   "name": "python",
   "nbconvert_exporter": "python",
   "pygments_lexer": "ipython3",
   "version": "3.7.3"
  }
 },
 "nbformat": 4,
 "nbformat_minor": 4
}
