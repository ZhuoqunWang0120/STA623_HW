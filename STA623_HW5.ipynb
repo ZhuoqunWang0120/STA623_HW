{
 "cells": [
  {
   "cell_type": "markdown",
   "metadata": {},
   "source": [
    "# 3"
   ]
  },
  {
   "cell_type": "code",
   "execution_count": 1,
   "metadata": {},
   "outputs": [],
   "source": [
    "import numpy as np\n",
    "from matplotlib import pyplot as plt\n",
    "from scipy import stats as ss\n",
    "npr=np.random\n",
    "mu1=0\n",
    "v1=1\n",
    "N=1000\n"
   ]
  },
  {
   "cell_type": "code",
   "execution_count": 2,
   "metadata": {},
   "outputs": [],
   "source": [
    "y_p1=npr.normal(mu1,np.sqrt(v1),N)\n"
   ]
  },
  {
   "cell_type": "code",
   "execution_count": 3,
   "metadata": {},
   "outputs": [
    {
     "name": "stdout",
     "output_type": "stream",
     "text": [
      "[[[ 7.84702848e-01  8.39684376e-01  8.28240060e-01]\n",
      "  [ 0.00000000e+00  0.00000000e+00  2.22044605e-16]\n",
      "  [-1.92722733e-01 -9.32336809e-02 -1.83933477e-02]]\n",
      "\n",
      " [[ 8.47664611e-01  8.84560618e-01  8.78946839e-01]\n",
      "  [ 1.19822566e-01  1.83009505e-01  4.33859828e-02]\n",
      "  [-1.89248825e-01 -9.20400220e-02 -1.82203406e-02]]\n",
      "\n",
      " [[ 9.99870067e-01  9.98831814e-01  9.89583668e-01]\n",
      "  [ 9.52327270e-01  8.30189684e-01  3.66756885e-01]\n",
      "  [-1.52263077e-01 -7.59190949e-02 -1.54012080e-02]]]\n",
      "[[[ 1.75132562e-02  9.15775257e-02  1.95268665e-01]\n",
      "  [ 1.38777878e-17  0.00000000e+00  2.22044605e-16]\n",
      "  [-8.22341417e-01 -8.43624482e-01 -7.67662149e-01]]\n",
      "\n",
      " [[ 3.98664427e-03  1.04333394e-03 -3.80140153e-02]\n",
      "  [-3.89928865e-02 -1.76737295e-01 -1.21529548e-01]\n",
      "  [-8.17791833e-01 -8.22776655e-01 -7.74551406e-01]]\n",
      "\n",
      " [[-8.67604279e-02 -4.60922919e-01 -8.84980434e-01]\n",
      "  [-3.68244640e-01 -8.34955579e-01 -9.55664886e-01]\n",
      "  [-8.26175933e-01 -8.52647255e-01 -7.77472199e-01]]]\n"
     ]
    }
   ],
   "source": [
    "mu2=np.array([0,1,5])\n",
    "v2=np.array([0.01,1,100])\n",
    "pi1=np.array([0.1,0.5,0.9])\n",
    "tau_tp=np.zeros((3,3,3)) # mu2,v2,pi1\n",
    "tau_fp=np.zeros((3,3,3)) # mu2,v2,pi1\n",
    "Delta1=np.zeros((3,3,3))\n",
    "Delta2=np.zeros((3,3,3))\n",
    "tau_tp_approx=np.zeros((3,3,3)) \n",
    "tau_fp_approx=np.zeros((3,3,3)) \n",
    "\n",
    "for i in range(3):\n",
    "    for j in range(3):\n",
    "        for k in range(3):\n",
    "            y_p2=npr.normal(mu2[i],np.sqrt(v2[j]),N)\n",
    "            pi1_y_p1=pi1[k]*ss.norm.pdf(y_p1,mu1,np.sqrt(v1))/(pi1[k]*ss.norm.pdf(y_p1,mu1,np.sqrt(v1))+(1-pi1[k])*ss.norm.pdf(y_p1,mu2[i],np.sqrt(v2[j])))\n",
    "            pi1_y_p2=pi1[k]*ss.norm.pdf(y_p2,mu1,np.sqrt(v1))/(pi1[k]*ss.norm.pdf(y_p2,mu1,np.sqrt(v1))+(1-pi1[k])*ss.norm.pdf(y_p2,mu2[i],np.sqrt(v2[j])))\n",
    "            tau_tp[i,j,k]=np.sum(pi1_y_p1)/N\n",
    "            tau_fp[i,j,k]=np.sum(pi1_y_p2)/N\n",
    "            Delta1[i,j,k]=np.sqrt((v1+v2[j])*v1/2)/v2[j]*np.exp(-(mu1-mu2[i])/(2*v1+v2[j]))\n",
    "            Delta2[i,j,k]=np.sqrt((v1+v2[j])*v2[j]/2)/v1*np.exp(-(mu1-mu2[i])/(2*v1+v2[j]))\n",
    "            tau_tp_approx[i,j,k]=pi1[k]/(pi1[k]+(1-pi1[k])*Delta1[i,j,k])\n",
    "            tau_fp_approx[i,j,k]=pi1[k]/(pi1[k]+(1-pi1[k])/Delta2[i,j,k])\n",
    "\n",
    "print(tau_tp-tau_tp_approx)\n",
    "print(tau_fp-tau_fp_approx)\n",
    "\n"
   ]
  },
  {
   "cell_type": "code",
   "execution_count": null,
   "metadata": {},
   "outputs": [],
   "source": []
  },
  {
   "cell_type": "code",
   "execution_count": null,
   "metadata": {},
   "outputs": [],
   "source": []
  }
 ],
 "metadata": {
  "kernelspec": {
   "display_name": "Python 3",
   "language": "python",
   "name": "python3"
  },
  "language_info": {
   "codemirror_mode": {
    "name": "ipython",
    "version": 3
   },
   "file_extension": ".py",
   "mimetype": "text/x-python",
   "name": "python",
   "nbconvert_exporter": "python",
   "pygments_lexer": "ipython3",
   "version": "3.7.3"
  }
 },
 "nbformat": 4,
 "nbformat_minor": 4
}
